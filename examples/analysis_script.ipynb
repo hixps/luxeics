{
 "cells": [
  {
   "cell_type": "code",
   "execution_count": null,
   "metadata": {
    "ExecuteTime": {
     "end_time": "2024-11-07T13:23:23.474574Z",
     "start_time": "2024-11-07T13:23:22.757545Z"
    }
   },
   "outputs": [],
   "source": [
    "%pylab inline"
   ]
  },
  {
   "cell_type": "code",
   "execution_count": null,
   "metadata": {
    "ExecuteTime": {
     "end_time": "2024-11-07T13:23:23.497073Z",
     "start_time": "2024-11-07T13:23:23.484935Z"
    }
   },
   "outputs": [],
   "source": [
    "%pwd"
   ]
  },
  {
   "cell_type": "code",
   "execution_count": null,
   "metadata": {
    "ExecuteTime": {
     "end_time": "2024-11-07T13:23:23.539645Z",
     "start_time": "2024-11-07T13:23:23.502987Z"
    }
   },
   "outputs": [],
   "source": [
    "import yaml\n",
    "# import h5py\n",
    "# import numpy as np"
   ]
  },
  {
   "cell_type": "code",
   "execution_count": null,
   "metadata": {
    "ExecuteTime": {
     "end_time": "2024-11-07T13:23:23.645786Z",
     "start_time": "2024-11-07T13:23:23.547163Z"
    }
   },
   "outputs": [],
   "source": [
    "import pica\n",
    "\n",
    "print (pica.__version__)"
   ]
  },
  {
   "cell_type": "code",
   "execution_count": null,
   "metadata": {
    "ExecuteTime": {
     "end_time": "2024-11-07T13:23:32.142121Z",
     "start_time": "2024-11-07T13:23:23.652157Z"
    }
   },
   "outputs": [],
   "source": [
    "input_filename = f'testbeam1'\n",
    "SIM = pica.ICSSimulation( input_filename )\n",
    "SIM.run()\n",
    "# SIM.read()\n"
   ]
  },
  {
   "cell_type": "code",
   "execution_count": null,
   "metadata": {
    "ExecuteTime": {
     "end_time": "2024-11-07T13:23:32.156086Z",
     "start_time": "2024-11-07T13:23:32.144865Z"
    }
   },
   "outputs": [],
   "source": [
    "SIM.K_photon.shape\n",
    "\n",
    "K0,K1,K2,K3       = SIM.K_photon   * (SIM.config.unit.momentum_scale/1e9) # always in GeV for analysis\n",
    "X0,X1,X2,X3       = SIM.X_photon\n",
    "W                 = SIM.W_photon\n",
    "_,S1,S2,S3        = SIM.S_photon # in x-z plane\n",
    "\n",
    "P0,P1,P2,P3       = SIM.P_electron * (SIM.config.unit.momentum_scale/1e9) # always in GeV for analysis\n",
    "\n",
    "\n",
    "PolDegree         = SIM.LinearPolarizationDegree  # photon linear polarization degree\n",
    "TiltAngle         = SIM.PolarizationTiltAngle     # polarization tilt angle"
   ]
  },
  {
   "cell_type": "code",
   "execution_count": null,
   "metadata": {
    "ExecuteTime": {
     "end_time": "2024-11-07T13:23:32.170173Z",
     "start_time": "2024-11-07T13:23:32.159245Z"
    }
   },
   "outputs": [],
   "source": [
    "with open( input_filename + '.yml', 'r' ) as stream:\n",
    "    input_dict = yaml.load(stream, Loader=yaml.SafeLoader)\n",
    "    \n",
    "print (input_dict)"
   ]
  },
  {
   "cell_type": "code",
   "execution_count": null,
   "metadata": {
    "ExecuteTime": {
     "end_time": "2024-11-07T13:23:32.176361Z",
     "start_time": "2024-11-07T13:23:32.172317Z"
    }
   },
   "outputs": [],
   "source": [
    "\n",
    "        \n",
    "\n",
    "beam_charge          = SIM.config.beam.charge\n",
    "number_electrons     = SIM.number_electrons\n",
    "\n",
    "w0                   = SIM.config.laser.w0\n",
    "sigmaX               = SIM.config.beam.sigmaX\n",
    "sigmaY               = SIM.config.beam.sigmaY\n",
    "    \n",
    "baseline             = SIM.config.beam.baseline\n",
    "    \n",
    "omegamin,omegamax    = np.asarray(SIM.config.detector.omega)/1e9  # in GeV\n",
    "thetamin,thetamax    = np.asarray(SIM.config.detector.theta)*1e6  # in µrad"
   ]
  },
  {
   "cell_type": "code",
   "execution_count": null,
   "metadata": {
    "ExecuteTime": {
     "end_time": "2024-11-07T13:23:32.190519Z",
     "start_time": "2024-11-07T13:23:32.179058Z"
    },
    "scrolled": true
   },
   "outputs": [],
   "source": [
    "print (f'beam charge                              : {beam_charge*1e12:.24} pC')\n",
    "print (f'number of beam electrons                 : {SIM.number_electrons:.4e}')\n",
    "print ('-'*42)\n",
    "print (f'max  single photon weight                : {amax(W):.4g}')\n",
    "print (f'mean single photon weight                : {mean(W):.4g}')\n",
    "print (f'total photon weight                      : {sum(W):.4g}')\n",
    "print (f'total photon weight per incident electron: {sum(W)/number_electrons:.4g}')\n",
    "print (f'total macro photon number                : {len(W)}')\n",
    "print ('-'*42)"
   ]
  },
  {
   "cell_type": "markdown",
   "metadata": {
    "ExecuteTime": {
     "end_time": "2024-11-06T13:25:24.041878Z",
     "start_time": "2024-11-06T13:25:24.038798Z"
    }
   },
   "source": [
    "# Photons at Source\n",
    "## Photon Energy-Angle"
   ]
  },
  {
   "cell_type": "code",
   "execution_count": null,
   "metadata": {
    "ExecuteTime": {
     "end_time": "2024-11-07T13:23:32.953826Z",
     "start_time": "2024-11-07T13:23:32.205034Z"
    }
   },
   "outputs": [],
   "source": [
    "figure(figsize=(10,6), constrained_layout=True)\n",
    "\n",
    "bbins=(linspace(omegamin,omegamax,100),linspace(thetamin,thetamax,102))\n",
    "\n",
    "subplot(111)\n",
    "hist2d(K0,sqrt(K1**2+K2**2)/K3*1e6,bins=bbins,weights=W,rasterized=True,cmap=cm.magma);\n",
    "colorbar(label=r'$\\frac{d^2N}{d\\omega \\, d\\cos\\theta}$',shrink=0.7)\n",
    "xlabel(r'$\\omega$ (GeV)')\n",
    "ylabel(r'$\\theta$ ($\\mu$rad)');\n"
   ]
  },
  {
   "cell_type": "markdown",
   "metadata": {},
   "source": [
    "## Photon Transverse Momentum"
   ]
  },
  {
   "cell_type": "code",
   "execution_count": null,
   "metadata": {
    "ExecuteTime": {
     "end_time": "2024-11-07T13:23:33.436266Z",
     "start_time": "2024-11-07T13:23:32.955992Z"
    }
   },
   "outputs": [],
   "source": [
    "figure(figsize=(10,6), constrained_layout=True)\n",
    "\n",
    "subplot(111,aspect=1)\n",
    "hist2d(K1*1e6,K2*1e6,bins=(50,50),weights=W,rasterized=True,cmap=cm.magma);\n",
    "colorbar(label=r'$\\frac{d^2N}{d^2\\vec k_\\perp}$', shrink=0.7)\n",
    "\n",
    "xlabel(r'$k_x$ (keV)')\n",
    "ylabel(r'$k_y$ (keV)');\n"
   ]
  },
  {
   "cell_type": "markdown",
   "metadata": {
    "ExecuteTime": {
     "end_time": "2024-11-06T13:30:48.205541Z",
     "start_time": "2024-11-06T13:30:48.200783Z"
    }
   },
   "source": [
    "## Photon Angular Distribution"
   ]
  },
  {
   "cell_type": "code",
   "execution_count": null,
   "metadata": {
    "ExecuteTime": {
     "end_time": "2024-11-07T13:23:33.921459Z",
     "start_time": "2024-11-07T13:23:33.438499Z"
    }
   },
   "outputs": [],
   "source": [
    "figure(figsize=(10,6), constrained_layout=True)\n",
    "\n",
    "subplot(111,aspect=1)\n",
    "hist2d(K1/K3*1e6,K2/K3*1e6,bins=(70,72),weights=W,rasterized=True,cmap=cm.magma);\n",
    "colorbar(label=r'$\\frac{d^2N}{d\\theta_x \\, d\\theta_y}$',shrink=0.7)\n",
    "\n",
    "xlabel(r'$\\theta_x$ (µrad)')\n",
    "ylabel(r'$\\theta_y$ (µrad)');\n"
   ]
  },
  {
   "cell_type": "markdown",
   "metadata": {
    "ExecuteTime": {
     "end_time": "2024-11-06T13:35:42.243440Z",
     "start_time": "2024-11-06T13:35:42.238081Z"
    }
   },
   "source": [
    "## Photon Radial Source Spectrum"
   ]
  },
  {
   "cell_type": "code",
   "execution_count": null,
   "metadata": {
    "ExecuteTime": {
     "end_time": "2024-11-07T13:23:34.340290Z",
     "start_time": "2024-11-07T13:23:33.924176Z"
    }
   },
   "outputs": [],
   "source": [
    "figure(figsize=(10,6), constrained_layout=True)\n",
    "\n",
    "bbins=(linspace(omegamin,omegamax,100),linspace(0,2*sigmaX,51))\n",
    "\n",
    "subplot(111)\n",
    "hist2d(K0,sqrt(X1**2+X2**2),bins=bbins,weights=W/sqrt(X1**2+X2**2),rasterized=True,cmap=cm.magma);\n",
    "colorbar(shrink=0.7)\n",
    "xlabel(r'$\\omega$ (GeV)')\n",
    "ylabel(r'$r$ ($\\mu$m)');\n",
    "ylim(0,2*sigmaX)\n"
   ]
  },
  {
   "cell_type": "markdown",
   "metadata": {
    "ExecuteTime": {
     "end_time": "2024-11-06T13:35:29.037473Z",
     "start_time": "2024-11-06T13:35:29.031221Z"
    }
   },
   "source": [
    "## Photon Source Size"
   ]
  },
  {
   "cell_type": "code",
   "execution_count": null,
   "metadata": {
    "ExecuteTime": {
     "end_time": "2024-11-07T13:23:35.090197Z",
     "start_time": "2024-11-07T13:23:34.342415Z"
    }
   },
   "outputs": [],
   "source": [
    "figure(figsize=(10,6), constrained_layout=True)\n",
    "\n",
    "bbins=(linspace(-2*sigmaX,2*sigmaX,99),linspace(-2*sigmaY,2*sigmaY,100))\n",
    "\n",
    "subplot(111,aspect=1)\n",
    "hist2d(X1,X2,bins=bbins,weights=W,rasterized=True,cmap=cm.magma);\n",
    "colorbar(shrink=0.7)\n",
    "\n",
    "xlabel(r'$x@$source (micron)')\n",
    "ylabel(r'$y@$source (micron)');\n"
   ]
  },
  {
   "cell_type": "markdown",
   "metadata": {},
   "source": [
    "# Scattered Electron Momenta"
   ]
  },
  {
   "cell_type": "code",
   "execution_count": null,
   "metadata": {
    "ExecuteTime": {
     "end_time": "2024-11-07T13:23:35.908682Z",
     "start_time": "2024-11-07T13:23:35.093261Z"
    }
   },
   "outputs": [],
   "source": [
    "fig,ax=subplots(1,3,figsize=(20,6), constrained_layout=True)\n",
    "bbins=(50,50)\n",
    "\n",
    "ax[0].hist2d(P3,P1*1e6,bins=bbins,weights=W,rasterized=True,cmap=cm.magma);\n",
    "ax[1].hist2d(P3,P2*1e6,bins=bbins,weights=W,rasterized=True,cmap=cm.magma);\n",
    "ax[2].hist2d(P1*1e6,P2*1e6,bins=bbins,weights=W,rasterized=True,cmap=cm.magma);\n",
    "\n",
    "\n",
    "ax[0].set_xlabel(r'electron $p_z$ (GeV)')\n",
    "ax[1].set_xlabel(r'electron $p_z$ (GeV)')\n",
    "ax[2].set_xlabel(r'electron $p_x$ (keV)')\n",
    "\n",
    "ax[0].set_ylabel(r'electron $p_x$ (keV)')\n",
    "ax[1].set_ylabel(r'electron $p_y$ (keV)')\n",
    "ax[2].set_ylabel(r'electron $p_y$ (keV)');\n"
   ]
  },
  {
   "cell_type": "markdown",
   "metadata": {
    "ExecuteTime": {
     "end_time": "2024-11-06T13:35:36.675016Z",
     "start_time": "2024-11-06T13:35:36.669691Z"
    }
   },
   "source": [
    "# Photons at IP"
   ]
  },
  {
   "cell_type": "code",
   "execution_count": null,
   "metadata": {
    "ExecuteTime": {
     "end_time": "2024-11-07T13:23:35.920318Z",
     "start_time": "2024-11-07T13:23:35.912055Z"
    }
   },
   "outputs": [],
   "source": [
    "xoffset = SIM.xoffset\n",
    "yoffset = SIM.yoffset\n",
    "\n",
    "X1_IP = X1+xoffset\n",
    "X2_IP = X2+yoffset\n",
    "\n",
    "R_IP  = sqrt(X1_IP**2 + X2_IP**2)"
   ]
  },
  {
   "cell_type": "code",
   "execution_count": null,
   "metadata": {
    "ExecuteTime": {
     "end_time": "2024-11-07T13:23:35.933870Z",
     "start_time": "2024-11-07T13:23:35.924326Z"
    }
   },
   "outputs": [],
   "source": [
    "spotsize  = 15  # micron\n",
    "select    = R_IP < spotsize\n",
    "\n",
    "\n",
    "print ('-'*82)\n",
    "print ( input_filename)\n",
    "print ('-'*82)\n",
    "print (f'IP-laser spot size                  : {spotsize:.2f} micron')\n",
    "print (f'baseline distance                   : {baseline/1e6:.2f} metres')\n",
    "print ('-'*82)\n",
    "\n",
    "\n",
    "print (f'min macrophoton weight              : {amin(W):.6g}')\n",
    "print (f'max macrophoton weight              : {amax(W):.6g}')\n",
    "print (f'macrophotons in spot                : {sum( select ):.0f}' )\n",
    "print (f'total photon weight in spot         : {sum(W[select ]):.1f}' )\n",
    "print (f'photon density                      : {sum(W[select ] ) /(np.pi*spotsize**2):.4f} photons/micron^2')\n",
    "\n",
    "print ('='*82)\n",
    "\n"
   ]
  },
  {
   "cell_type": "markdown",
   "metadata": {
    "ExecuteTime": {
     "end_time": "2024-11-06T13:49:24.942861Z",
     "start_time": "2024-11-06T13:49:24.938159Z"
    }
   },
   "source": [
    "## Photon Energy"
   ]
  },
  {
   "cell_type": "code",
   "execution_count": null,
   "metadata": {
    "ExecuteTime": {
     "end_time": "2024-11-07T13:23:37.079886Z",
     "start_time": "2024-11-07T13:23:35.936366Z"
    }
   },
   "outputs": [],
   "source": [
    "figure(figsize=(10,6), constrained_layout=True)\n",
    "ax=subplot(111,aspect=1)\n",
    "\n",
    "scatter(X1_IP, X2_IP, c=K0, marker='.', lw=0, s=5*W, cmap=cm.Spectral_r);\n",
    "colorbar(label='$\\omega$ (GeV)', shrink=0.7)\n",
    "\n",
    "xlabel(r'$x$ (micron)')\n",
    "ylabel(r'$y$ (micron)')\n",
    "ax.add_patch(Circle((0,0),spotsize,color='0.5',fill=False));\n"
   ]
  },
  {
   "cell_type": "markdown",
   "metadata": {
    "ExecuteTime": {
     "end_time": "2024-11-06T13:49:25.627352Z",
     "start_time": "2024-11-06T13:49:25.625030Z"
    }
   },
   "source": [
    "## Photon Stokes Parameter S1"
   ]
  },
  {
   "cell_type": "code",
   "execution_count": null,
   "metadata": {
    "ExecuteTime": {
     "end_time": "2024-11-07T13:23:38.332785Z",
     "start_time": "2024-11-07T13:23:37.082764Z"
    }
   },
   "outputs": [],
   "source": [
    "figure(figsize=(10,6), constrained_layout=True)\n",
    "ax=subplot(111,aspect=1)\n",
    "scatter(X1_IP, X2_IP, c=S1, marker='.',lw=0,s=5*W,vmin=-1,vmax=1,cmap=cm.PuOr);\n",
    "\n",
    "colorbar(label='Stokes parameter $S_1$', shrink=0.7)\n",
    "xlabel(r'$x$ (micron)')\n",
    "ylabel(r'$y$ (micron)');\n",
    "\n",
    "ax.add_patch(Circle((0,0),spotsize,color='0.5',fill=False));\n"
   ]
  },
  {
   "cell_type": "markdown",
   "metadata": {
    "ExecuteTime": {
     "end_time": "2024-11-06T13:49:25.627352Z",
     "start_time": "2024-11-06T13:49:25.625030Z"
    }
   },
   "source": [
    "## Photon Linear Polarization Degree"
   ]
  },
  {
   "cell_type": "code",
   "execution_count": null,
   "metadata": {
    "ExecuteTime": {
     "end_time": "2024-11-07T13:23:39.342362Z",
     "start_time": "2024-11-07T13:23:38.334647Z"
    }
   },
   "outputs": [],
   "source": [
    "figure(figsize=(10,6), constrained_layout=True)\n",
    "ax=subplot(111,aspect=1)\n",
    "scatter(X1_IP, X2_IP, c=PolDegree, marker='.',lw=0,s=5*W,vmin=0,vmax=1,cmap=cm.Reds);\n",
    "\n",
    "colorbar(label='Linear Polarization Degree', shrink=0.7)\n",
    "xlabel(r'$x$ (micron)')\n",
    "ylabel(r'$y$ (micron)');\n",
    "\n",
    "ax.add_patch(Circle((0,0),spotsize,color='0.5',fill=False));\n"
   ]
  },
  {
   "cell_type": "markdown",
   "metadata": {
    "ExecuteTime": {
     "end_time": "2024-11-06T13:49:25.627352Z",
     "start_time": "2024-11-06T13:49:25.625030Z"
    }
   },
   "source": [
    "## Photon Polarization Tilt Angle\n",
    "\n"
   ]
  },
  {
   "cell_type": "code",
   "execution_count": null,
   "metadata": {
    "ExecuteTime": {
     "end_time": "2024-11-07T13:23:40.449618Z",
     "start_time": "2024-11-07T13:23:39.344527Z"
    }
   },
   "outputs": [],
   "source": [
    "figure(figsize=(10,6), constrained_layout=True)\n",
    "ax=subplot(111,aspect=1)\n",
    "scatter(X1_IP, X2_IP, c=TiltAngle*180/pi, marker='.',vmin=-90, vmax=90, lw=0,s=5*W,cmap=cm.twilight_shifted);\n",
    "\n",
    "colorbar(label='Photon polarization tilt angle (deg)', shrink=0.7)\n",
    "xlabel(r'$x$ (micron)')\n",
    "ylabel(r'$y$ (micron)');\n",
    "\n",
    "ax.add_patch(Circle((0,0),spotsize,color='0.5',fill=False));\n"
   ]
  }
 ],
 "metadata": {
  "hide_input": false,
  "kernelspec": {
   "display_name": "PICA (dev -e)",
   "language": "python",
   "name": "pica"
  },
  "language_info": {
   "codemirror_mode": {
    "name": "ipython",
    "version": 3
   },
   "file_extension": ".py",
   "mimetype": "text/x-python",
   "name": "python",
   "nbconvert_exporter": "python",
   "pygments_lexer": "ipython3",
   "version": "3.10.15"
  }
 },
 "nbformat": 4,
 "nbformat_minor": 4
}
